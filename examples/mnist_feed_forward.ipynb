{
 "cells": [
  {
   "cell_type": "code",
   "execution_count": 1,
   "id": "34e207d5-2211-46d9-97a4-28c6bc3cf7d0",
   "metadata": {
    "ExecuteTime": {
     "end_time": "2024-12-30T01:34:39.490365Z",
     "start_time": "2024-12-30T01:34:39.475513Z"
    }
   },
   "outputs": [],
   "source": [
    "%load_ext autoreload\n",
    "%autoreload 2"
   ]
  },
  {
   "cell_type": "code",
   "execution_count": 2,
   "id": "ee712190-edad-443a-acfc-215f174603c9",
   "metadata": {
    "ExecuteTime": {
     "end_time": "2024-12-30T01:34:41.663213Z",
     "start_time": "2024-12-30T01:34:39.771007Z"
    }
   },
   "outputs": [],
   "source": [
    "import numpy as np\n",
    "import pytensor\n",
    "\n",
    "from sklearn.datasets import load_digits\n",
    "from sklearn.preprocessing import MinMaxScaler, OneHotEncoder\n",
    "\n",
    "from pytensor_ml.activations import LeakyReLU\n",
    "from pytensor_ml.layers import Linear, Sequential\n",
    "from pytensor_ml.loss import CrossEntropy\n",
    "from pytensor_ml.model import Model\n",
    "from pytensor_ml.optimizers import ADAGrad"
   ]
  },
  {
   "cell_type": "code",
   "execution_count": 3,
   "id": "e787b236-fdd1-4c37-b5ff-40e616013b89",
   "metadata": {
    "ExecuteTime": {
     "end_time": "2024-12-30T01:34:41.694789Z",
     "start_time": "2024-12-30T01:34:41.667218Z"
    }
   },
   "outputs": [],
   "source": [
    "X, y = load_digits(return_X_y=True)\n",
    "y_onehot = OneHotEncoder().fit_transform(y[:, None]).toarray()\n",
    "X_normed = MinMaxScaler().fit_transform(X)"
   ]
  },
  {
   "cell_type": "code",
   "execution_count": 4,
   "id": "b9b6a779-0c89-4e98-ae73-ce5961232d98",
   "metadata": {
    "ExecuteTime": {
     "end_time": "2024-12-30T01:34:42.333967Z",
     "start_time": "2024-12-30T01:34:42.314095Z"
    }
   },
   "outputs": [],
   "source": [
    "# X_in = Input('X_in', shape=(64, ))\n",
    "X_in = pytensor.tensor.tensor(\"X_in\", shape=(None, 64))"
   ]
  },
  {
   "cell_type": "code",
   "execution_count": 5,
   "id": "ac431834-6442-4b14-8073-916f53eaa145",
   "metadata": {
    "ExecuteTime": {
     "end_time": "2024-12-30T01:34:43.171590Z",
     "start_time": "2024-12-30T01:34:43.139292Z"
    }
   },
   "outputs": [
    {
     "data": {
      "text/plain": [
       "<pytensor_ml.model.Model at 0x7f96bbb876b0>"
      ]
     },
     "execution_count": 5,
     "metadata": {},
     "output_type": "execute_result"
    }
   ],
   "source": [
    "prediction_network = Sequential(\n",
    "    Linear(\"Linear_1\", n_in=64, n_out=256),\n",
    "    LeakyReLU(),\n",
    "    Linear(\"Linear_2\", n_in=256, n_out=128),\n",
    "    LeakyReLU(),\n",
    "    Linear(\"Logits\", n_in=128, n_out=10),\n",
    ")\n",
    "\n",
    "y_hat = prediction_network(X_in)\n",
    "model = Model(X_in, y_hat)\n",
    "model"
   ]
  },
  {
   "cell_type": "code",
   "execution_count": 6,
   "id": "930b36cf-6430-40dd-b2f8-8a8f329b8e86",
   "metadata": {},
   "outputs": [],
   "source": [
    "loss_fn = CrossEntropy(expect_onehot_labels=True, expect_logits=True, reduction=\"mean\")"
   ]
  },
  {
   "cell_type": "code",
   "execution_count": 7,
   "id": "659b6d70-7feb-496e-b096-31c5b8946b1b",
   "metadata": {
    "ExecuteTime": {
     "end_time": "2024-12-30T01:34:45.362640Z",
     "start_time": "2024-12-30T01:34:43.762300Z"
    }
   },
   "outputs": [],
   "source": [
    "# optim = SGD(model, loss_fn, ndim_out=2, learning_rate=1e-3)\n",
    "optim = ADAGrad(model, loss_fn, ndim_out=2, learning_rate=1e-3)"
   ]
  },
  {
   "cell_type": "code",
   "execution_count": 8,
   "id": "2a7c9860-f7f9-4041-bf95-8a5ca7fb0ba9",
   "metadata": {
    "ExecuteTime": {
     "end_time": "2024-12-30T01:34:45.395219Z",
     "start_time": "2024-12-30T01:34:45.367674Z"
    }
   },
   "outputs": [],
   "source": [
    "model.initalize_weights()"
   ]
  },
  {
   "cell_type": "code",
   "execution_count": 9,
   "id": "090b5f28-df06-460f-9aec-b8f6799bded2",
   "metadata": {
    "ExecuteTime": {
     "end_time": "2024-12-30T01:34:46.080170Z",
     "start_time": "2024-12-30T01:34:45.912776Z"
    }
   },
   "outputs": [
    {
     "data": {
      "application/vnd.jupyter.widget-view+json": {
       "model_id": "d9f19a592c79411eb24e4bd8014c6d5d",
       "version_major": 2,
       "version_minor": 0
      },
      "text/plain": [
       "  0%|          | 0/1000 [00:00<?, ?it/s]"
      ]
     },
     "metadata": {},
     "output_type": "display_data"
    }
   ],
   "source": [
    "from tqdm.notebook import tqdm\n",
    "\n",
    "n_obs = X.shape[0]\n",
    "cutpoints = np.arange(0, n_obs, 1000).tolist()\n",
    "cutpoints += [n_obs]\n",
    "batch_slices = list(zip(cutpoints[:-1], cutpoints[1:]))\n",
    "loss_history = []\n",
    "n_epochs = 1000\n",
    "\n",
    "for _ in tqdm(range(n_epochs)):\n",
    "    all_idx = np.arange(n_obs)\n",
    "    np.random.shuffle(all_idx)\n",
    "    y_epoch = y_onehot[all_idx, :]\n",
    "    X_epoch = X_normed[all_idx, :]\n",
    "    for start, stop in batch_slices:\n",
    "        idx = slice(start, stop)\n",
    "        loss = optim.step(X_epoch[idx], y_epoch[idx])\n",
    "        loss_history.append(loss)"
   ]
  },
  {
   "cell_type": "code",
   "execution_count": 10,
   "id": "16bfd1a0-b8bf-403c-9da9-544b5879b075",
   "metadata": {
    "ExecuteTime": {
     "end_time": "2024-12-30T01:34:47.369095Z",
     "start_time": "2024-12-30T01:34:47.066121Z"
    }
   },
   "outputs": [
    {
     "data": {
      "text/plain": [
       "[<matplotlib.lines.Line2D at 0x7f96ae341940>]"
      ]
     },
     "execution_count": 10,
     "metadata": {},
     "output_type": "execute_result"
    },
    {
     "data": {
      "image/png": "[encoded data removed]",
      "text/plain": [
       "<Figure size 640x480 with 1 Axes>"
      ]
     },
     "metadata": {},
     "output_type": "display_data"
    }
   ],
   "source": [
    "import matplotlib.pyplot as plt\n",
    "\n",
    "plt.plot(loss_history)"
   ]
  },
  {
   "cell_type": "code",
   "execution_count": 11,
   "id": "d138eac0-753e-4cee-82ab-8094c46b00dd",
   "metadata": {
    "ExecuteTime": {
     "end_time": "2024-12-30T01:34:47.456463Z",
     "start_time": "2024-12-30T01:34:47.377201Z"
    }
   },
   "outputs": [],
   "source": [
    "from scipy.special import softmax\n",
    "\n",
    "y_hat_logits = model.predict(X_normed)\n",
    "y_hat_probs = softmax(y_hat_logits, axis=-1)\n",
    "y_hat = np.argmax(y_hat_probs, axis=-1)"
   ]
  },
  {
   "cell_type": "code",
   "execution_count": 12,
   "id": "483cac54-284e-4b8a-80c0-d99f5d06c4a2",
   "metadata": {
    "ExecuteTime": {
     "end_time": "2024-12-30T01:34:48.375636Z",
     "start_time": "2024-12-30T01:34:48.008019Z"
    }
   },
   "outputs": [
    {
     "data": {
      "text/plain": [
       "<Axes: >"
      ]
     },
     "execution_count": 12,
     "metadata": {},
     "output_type": "execute_result"
    },
    {
     "data": {
      "image/png": "[encoded data removed]",
      "text/plain": [
       "<Figure size 640x480 with 2 Axes>"
      ]
     },
     "metadata": {},
     "output_type": "display_data"
    }
   ],
   "source": [
    "import seaborn as sns\n",
    "\n",
    "from sklearn.metrics import confusion_matrix\n",
    "\n",
    "sns.heatmap(confusion_matrix(y, y_hat), annot=True, fmt=\"0.0f\")"
   ]
  },
  {
   "cell_type": "code",
   "execution_count": null,
   "id": "7ae1c99d-2bf9-44e0-a776-893a07ab3a3c",
   "metadata": {},
   "outputs": [],
   "source": []
  }
 ],
 "metadata": {
  "kernelspec": {
   "display_name": "Python 3 (ipykernel)",
   "language": "python",
   "name": "python3"
  },
  "language_info": {
   "codemirror_mode": {
    "name": "ipython",
    "version": 3
   },
   "file_extension": ".py",
   "mimetype": "text/x-python",
   "name": "python",
   "nbconvert_exporter": "python",
   "pygments_lexer": "ipython3",
   "version": "3.12.3"
  }
 },
 "nbformat": 4,
 "nbformat_minor": 5
}
