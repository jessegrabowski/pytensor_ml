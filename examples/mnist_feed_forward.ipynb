{
 "cells": [
  {
   "cell_type": "code",
   "id": "34e207d5-2211-46d9-97a4-28c6bc3cf7d0",
   "metadata": {
    "ExecuteTime": {
     "end_time": "2025-01-15T03:55:09.219897Z",
     "start_time": "2025-01-15T03:55:09.203009Z"
    }
   },
   "source": [
    "%load_ext autoreload\n",
    "%autoreload 2"
   ],
   "outputs": [],
   "execution_count": 1
  },
  {
   "cell_type": "code",
   "id": "70e2c7fb5bb1abfe",
   "metadata": {
    "ExecuteTime": {
     "end_time": "2025-01-15T03:55:12.139920Z",
     "start_time": "2025-01-15T03:55:09.234326Z"
    }
   },
   "source": [
    "import numpy as np\n",
    "import pytensor\n",
    "\n",
    "from sklearn.datasets import load_digits\n",
    "from sklearn.preprocessing import MinMaxScaler, OneHotEncoder\n",
    "\n",
    "from pytensor_ml.activations import LeakyReLU\n",
    "from pytensor_ml.layers import Linear, Sequential\n",
    "from pytensor_ml.loss import CrossEntropy\n",
    "from pytensor_ml.model import Model\n",
    "from pytensor_ml.optimizers import ADAGrad"
   ],
   "outputs": [],
   "execution_count": 2
  },
  {
   "cell_type": "code",
   "id": "765364c1382d18e9",
   "metadata": {
    "ExecuteTime": {
     "end_time": "2025-01-15T03:55:12.380135Z",
     "start_time": "2025-01-15T03:55:12.324257Z"
    }
   },
   "source": [
    "X, y = load_digits(return_X_y=True)\n",
    "y_onehot = OneHotEncoder().fit_transform(y[:, None]).toarray()\n",
    "X_normed = MinMaxScaler().fit_transform(X)"
   ],
   "outputs": [],
   "execution_count": 3
  },
  {
   "cell_type": "code",
   "id": "7bf5af7790f72cf",
   "metadata": {
    "ExecuteTime": {
     "end_time": "2025-01-15T03:55:12.447892Z",
     "start_time": "2025-01-15T03:55:12.414601Z"
    }
   },
   "source": [
    "# X_in = Input('X_in', shape=(64, ))\n",
    "X_in = pytensor.tensor.tensor(\"X_in\", shape=(None, 64))"
   ],
   "outputs": [],
   "execution_count": 4
  },
  {
   "cell_type": "code",
   "id": "20de28447c610681",
   "metadata": {
    "ExecuteTime": {
     "end_time": "2025-01-15T03:55:12.524807Z",
     "start_time": "2025-01-15T03:55:12.470874Z"
    }
   },
   "source": [
    "prediction_network = Sequential(\n",
    "    Linear(\"Linear_1\", n_in=64, n_out=256),\n",
    "    LeakyReLU(),\n",
    "    Linear(\"Linear_2\", n_in=256, n_out=128),\n",
    "    LeakyReLU(),\n",
    "    Linear(\"Logits\", n_in=128, n_out=10),\n",
    ")\n",
    "\n",
    "y_hat = prediction_network(X_in)\n",
    "model = Model(X_in, y_hat)\n",
    "model"
   ],
   "outputs": [
    {
     "data": {
      "text/plain": [
       "<pytensor_ml.model.Model at 0x7ff94b96d880>"
      ]
     },
     "execution_count": 5,
     "metadata": {},
     "output_type": "execute_result"
    }
   ],
   "execution_count": 5
  },
  {
   "cell_type": "code",
   "id": "f00a13ab85dfff1f",
   "metadata": {
    "ExecuteTime": {
     "end_time": "2025-01-15T03:55:12.565484Z",
     "start_time": "2025-01-15T03:55:12.542995Z"
    }
   },
   "source": [
    "loss_fn = CrossEntropy(expect_onehot_labels=True, expect_logits=True, reduction=\"mean\")"
   ],
   "outputs": [],
   "execution_count": 6
  },
  {
   "cell_type": "code",
   "id": "7c942c50f9fafa7b",
   "metadata": {
    "ExecuteTime": {
     "end_time": "2025-01-15T03:55:23.001228Z",
     "start_time": "2025-01-15T03:55:12.596996Z"
    }
   },
   "source": [
    "# optim = SGD(model, loss_fn, ndim_out=2, learning_rate=1e-3)\n",
    "optim = ADAGrad(model, loss_fn, ndim_out=2, learning_rate=1e-3)"
   ],
   "outputs": [],
   "execution_count": 7
  },
  {
   "cell_type": "code",
   "id": "58f94af471f5fa34",
   "metadata": {
    "ExecuteTime": {
     "end_time": "2025-01-15T03:55:23.066674Z",
     "start_time": "2025-01-15T03:55:23.042199Z"
    }
   },
   "source": [
    "model.initalize_weights()"
   ],
   "outputs": [],
   "execution_count": 8
  },
  {
   "cell_type": "code",
   "id": "9db544810345190b",
   "metadata": {
    "ExecuteTime": {
     "end_time": "2025-01-15T03:55:45.869406Z",
     "start_time": "2025-01-15T03:55:23.087168Z"
    }
   },
   "source": [
    "import itertools\n",
    "\n",
    "from tqdm.notebook import tqdm\n",
    "\n",
    "n_obs = X.shape[0]\n",
    "cutpoints = np.arange(0, n_obs, 1000).tolist()\n",
    "cutpoints += [n_obs]\n",
    "batch_slices = list(itertools.pairwise(cutpoints))\n",
    "loss_history = []\n",
    "n_epochs = 1000\n",
    "\n",
    "for _ in tqdm(range(n_epochs)):\n",
    "    all_idx = np.arange(n_obs)\n",
    "    np.random.shuffle(all_idx)\n",
    "    y_epoch = y_onehot[all_idx, :]\n",
    "    X_epoch = X_normed[all_idx, :]\n",
    "    for start, stop in batch_slices:\n",
    "        idx = slice(start, stop)\n",
    "        loss = optim.step(X_epoch[idx], y_epoch[idx])\n",
    "        loss_history.append(loss)"
   ],
   "outputs": [
    {
     "data": {
      "text/plain": [
       "  0%|          | 0/1000 [00:00<?, ?it/s]"
      ],
      "application/vnd.jupyter.widget-view+json": {
       "version_major": 2,
       "version_minor": 0,
       "model_id": "e423c0afc8ef480bbf2812372331929d"
      }
     },
     "metadata": {},
     "output_type": "display_data"
    }
   ],
   "execution_count": 9
  },
  {
   "cell_type": "code",
   "id": "4f5dfb676391f1ca",
   "metadata": {
    "ExecuteTime": {
     "end_time": "2025-01-15T03:55:46.082273Z",
     "start_time": "2025-01-15T03:55:45.915742Z"
    }
   },
   "source": [
    "import matplotlib.pyplot as plt\n",
    "\n",
    "plt.plot(loss_history)"
   ],
   "outputs": [
    {
     "data": {
      "text/plain": [
       "[<matplotlib.lines.Line2D at 0x7ff93e8fc080>]"
      ]
     },
     "execution_count": 10,
     "metadata": {},
     "output_type": "execute_result"
    },
    {
     "data": {
      "text/plain": [
       "<Figure size 640x480 with 1 Axes>"
      ],
      "image/png": "[encoded data removed]"
     },
     "metadata": {},
     "output_type": "display_data"
    }
   ],
   "execution_count": 10
  },
  {
   "cell_type": "code",
   "id": "ce262edfd2417b3f",
   "metadata": {
    "ExecuteTime": {
     "end_time": "2025-01-15T03:55:46.197334Z",
     "start_time": "2025-01-15T03:55:46.102461Z"
    }
   },
   "source": [
    "from scipy.special import softmax\n",
    "\n",
    "y_hat_logits = model.predict(X_normed)\n",
    "y_hat_probs = softmax(y_hat_logits, axis=-1)\n",
    "y_hat = np.argmax(y_hat_probs, axis=-1)"
   ],
   "outputs": [],
   "execution_count": 11
  },
  {
   "cell_type": "code",
   "id": "874811b4763620c9",
   "metadata": {
    "ExecuteTime": {
     "end_time": "2025-01-15T03:55:46.767470Z",
     "start_time": "2025-01-15T03:55:46.243309Z"
    }
   },
   "source": [
    "import seaborn as sns\n",
    "\n",
    "from sklearn.metrics import confusion_matrix\n",
    "\n",
    "sns.heatmap(confusion_matrix(y, y_hat), annot=True, fmt=\"0.0f\")"
   ],
   "outputs": [
    {
     "data": {
      "text/plain": [
       "<Axes: >"
      ]
     },
     "execution_count": 12,
     "metadata": {},
     "output_type": "execute_result"
    },
    {
     "data": {
      "text/plain": [
       "<Figure size 640x480 with 2 Axes>"
      ],
      "image/png": "[encoded data removed]"
     },
     "metadata": {},
     "output_type": "display_data"
    }
   ],
   "execution_count": 12
  },
  {
   "cell_type": "code",
   "id": "f49082db0d9c7093",
   "metadata": {
    "ExecuteTime": {
     "end_time": "2025-01-15T03:55:46.790275Z",
     "start_time": "2025-01-15T03:55:46.786660Z"
    }
   },
   "source": [],
   "outputs": [],
   "execution_count": null
  }
 ],
 "metadata": {
  "kernelspec": {
   "display_name": "Python 3 (ipykernel)",
   "language": "python",
   "name": "python3"
  },
  "language_info": {
   "codemirror_mode": {
    "name": "ipython",
    "version": 3
   },
   "file_extension": ".py",
   "mimetype": "text/x-python",
   "name": "python",
   "nbconvert_exporter": "python",
   "pygments_lexer": "ipython3",
   "version": "3.12.8"
  }
 },
 "nbformat": 4,
 "nbformat_minor": 5
}
